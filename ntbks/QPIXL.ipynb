{
 "cells": [
  {
   "cell_type": "markdown",
   "id": "d65dfa17-7d13-4fe6-b268-8ade720540bf",
   "metadata": {},
   "source": [
    "# QPIXL"
   ]
  },
  {
   "cell_type": "code",
   "execution_count": 35,
   "id": "2652f23e-4a5c-4935-9720-f3ef2b69e8aa",
   "metadata": {},
   "outputs": [],
   "source": [
    "# qip/helper.py\n",
    "\n",
    "import numpy as np\n",
    "\n",
    "def sfwht(a):\n",
    "    n = len(a)\n",
    "    k = ilog2(n)\n",
    "    j=1\n",
    "    while j<=n:\n",
    "        for i in range(0,n):\n",
    "            if (i&j) == 0:\n",
    "                j1=i+j \n",
    "                x=a[i]\n",
    "                y=a[j1]\n",
    "                a[i],a[j1]=(x+y)/2,(x-y)/2\n",
    "        j*=2\n",
    "    return a            \n",
    "\n",
    "def isfwht(a):\n",
    "    n = len(a)\n",
    "    k = ilog2(n)\n",
    "    j=1\n",
    "    while j<=n:\n",
    "        for i in range(0,n):\n",
    "            if (i&j) == 0:\n",
    "                j1=i+j \n",
    "                x=a[i]\n",
    "                y=a[j1]\n",
    "                a[i],a[j1]=(x+y),(x-y)\n",
    "        j*=2 \n",
    "    return a            \n",
    "\n",
    "def ispow2(x):\n",
    "    return not (x&x-1)\n",
    "\n",
    "def nextpow2(x):\n",
    "    x-=1\n",
    "    x|=x>>1\n",
    "    x|=x>>2\n",
    "    x|=x>>4\n",
    "    x|=x>>8\n",
    "    x|=x>>16\n",
    "    x|=x>>32\n",
    "    x+=1\n",
    "    return x \n",
    "\n",
    "def ilog2(x):\n",
    "    return int(np.log2(x))\n",
    "\n",
    "def grayCode(x):\n",
    "    return x^(x>>1)\n",
    "\n",
    "def grayPermutation(a):\n",
    "    b = np.zeros(len(a))\n",
    "    for i in range(len(a)):\n",
    "        b[i] = a[grayCode(i)]\n",
    "    return b\n",
    "\n",
    "def invGrayPermutation(a):\n",
    "    b = np.zeros(len(a))\n",
    "    for i in range(len(a)):\n",
    "        b[grayCode(i)] = a[i]\n",
    "    return b\n",
    "\n",
    "def convertToAngles(a,maxval):\n",
    "    pi2=2*np.arctan(1)\n",
    "    scal = pi2/maxval \n",
    "    a = a *scal \n",
    "\n",
    "def convertToGrayscale(a,maxval):\n",
    "    pi2=2*np.arctan(1)\n",
    "    scal = maxval/pi2 \n",
    "    a = a * scal \n",
    "\n",
    "def countr_zero(n, n_bits=8):\n",
    "    \"\"\"Returns the number of consecutive 0 bits in the value of x, starting from the least significant bit (\"right\").\"\"\"\n",
    "    if n == 0:\n",
    "        return n_bits\n",
    "\n",
    "    counts = [0]\n",
    "    count = 0\n",
    "    while n != 0:\n",
    "        if n & 1 == 0:\n",
    "            count += 1\n",
    "        elif count > 1:\n",
    "            counts.append(count)\n",
    "            count = 0\n",
    "        n >>= 1\n",
    "    return max(counts)"
   ]
  },
  {
   "cell_type": "code",
   "execution_count": 36,
   "id": "61d1c269-1076-4858-b467-b2985b3061f1",
   "metadata": {},
   "outputs": [
    {
     "data": {
      "text/plain": [
       "2"
      ]
     },
     "execution_count": 36,
     "metadata": {},
     "output_type": "execute_result"
    }
   ],
   "source": [
    "grayCode(5) ^ grayCode(6)"
   ]
  },
  {
   "cell_type": "code",
   "execution_count": 37,
   "id": "49b4c69a-f1fc-415e-aeed-89178e290737",
   "metadata": {},
   "outputs": [
    {
     "data": {
      "text/plain": [
       "2"
      ]
     },
     "execution_count": 37,
     "metadata": {},
     "output_type": "execute_result"
    }
   ],
   "source": [
    "countr_zero(4)"
   ]
  },
  {
   "cell_type": "code",
   "execution_count": 38,
   "id": "5448ad90-286d-442f-b87b-c2cf4dfdc883",
   "metadata": {},
   "outputs": [
    {
     "data": {
      "text/plain": [
       "8"
      ]
     },
     "execution_count": 38,
     "metadata": {},
     "output_type": "execute_result"
    }
   ],
   "source": [
    "countr_zero(0b00000000)"
   ]
  },
  {
   "cell_type": "code",
   "execution_count": 39,
   "id": "e56d3c9a-6fad-4aa9-982c-0a955cb42afe",
   "metadata": {},
   "outputs": [
    {
     "data": {
      "text/plain": [
       "0"
      ]
     },
     "execution_count": 39,
     "metadata": {},
     "output_type": "execute_result"
    }
   ],
   "source": [
    "countr_zero(0b11111111)"
   ]
  },
  {
   "cell_type": "code",
   "execution_count": 40,
   "id": "fbdd4a4a-bb03-4f30-9429-bf738e066bdf",
   "metadata": {},
   "outputs": [
    {
     "data": {
      "text/plain": [
       "2"
      ]
     },
     "execution_count": 40,
     "metadata": {},
     "output_type": "execute_result"
    }
   ],
   "source": [
    "countr_zero(0b00011100)"
   ]
  },
  {
   "cell_type": "code",
   "execution_count": 41,
   "id": "87ccae2d-fc7b-41c5-b856-d7e19f94ce03",
   "metadata": {},
   "outputs": [
    {
     "data": {
      "text/plain": [
       "0"
      ]
     },
     "execution_count": 41,
     "metadata": {},
     "output_type": "execute_result"
    }
   ],
   "source": [
    "countr_zero(0b00011101)"
   ]
  },
  {
   "cell_type": "code",
   "execution_count": 12,
   "id": "7e88a4ed-3370-4b85-8647-daf35d223285",
   "metadata": {},
   "outputs": [
    {
     "data": {
      "text/plain": [
       "[-1, -2, 3, 4]"
      ]
     },
     "execution_count": 12,
     "metadata": {},
     "output_type": "execute_result"
    }
   ],
   "source": [
    "a = [4, -2, 3, -1]\n",
    "sorted(a, key=abs)"
   ]
  },
  {
   "cell_type": "code",
   "execution_count": 6,
   "id": "373c52a7-fc8a-4f56-a5d4-359beb8a5f02",
   "metadata": {},
   "outputs": [],
   "source": [
    "# qip/qpixl.py\n",
    "from qiskit import QuantumCircuit\n",
    "\n",
    "\n",
    "def cFRQI(a, compression):\n",
    "    a = convertToAngles(a,1) # convert grayscale to angles\n",
    "    \n",
    "    n = len(a)\n",
    "    k = ilog2(n)\n",
    "    \n",
    "    a = 2*a \n",
    "    a = sfwht(a)\n",
    "    a = grayPermutation(a) \n",
    "    \n",
    "    idx = list(range(0,n))\n",
    "    a = sorted(a, key=abs)\n",
    "\n",
    "    # set smallest absolute values of a to zero according to compression param\n",
    "    cutoff = (compression / 100.0) * n\n",
    "    for it in idx[:cutoff]:\n",
    "        a[it]=0.0\n",
    "    \n",
    "    # Construct FRQI circuit\n",
    "    circuit = QuantumCircuit(k+1)\n",
    "    # Hadamard register\n",
    "    circuit.h(range(0,k))\n",
    "    # Compressed uniformly controlled rotation register\n",
    "    ctrl, pc, i = 0\n",
    "    while i < (1<<k):\n",
    "        # Reset the parity check\n",
    "        pc = 0\n",
    "\n",
    "        # Add RY gate\n",
    "        if  a[i] != 0:\n",
    "            circuit.ry(k, a[i])\n",
    "\n",
    "        # Loop over sequence of consecutive zero angles\n",
    "        while True:\n",
    "            # Compute control qubit\n",
    "            if i == (1<<k) - 1:\n",
    "                ctrl=0\n",
    "            else:\n",
    "                ctrl = grayCode(i) ^ grayCode(i + 1)\n",
    "                ctrl = k - countr_zero(ctrl, n_bits=k) - 1\n",
    "\n",
    "            # Update parity check\n",
    "            pc ^= 1 << ctrl\n",
    "            i += 1\n",
    "            \n",
    "            if not (i < (1<<k) and a[i] == 0):\n",
    "                break\n",
    "\n",
    "        for j in range(0, k):\n",
    "            if (pc >> j) & 1:\n",
    "                circuit.cnot(j, k)\n",
    "                \n",
    "    return circuit"
   ]
  },
  {
   "cell_type": "code",
   "execution_count": null,
   "id": "5eb64cf9-8bdd-4e2c-b695-37b4ef4cb7f9",
   "metadata": {},
   "outputs": [],
   "source": []
  }
 ],
 "metadata": {
  "kernelspec": {
   "display_name": "Python 3 (ipykernel)",
   "language": "python",
   "name": "python3"
  },
  "language_info": {
   "codemirror_mode": {
    "name": "ipython",
    "version": 3
   },
   "file_extension": ".py",
   "mimetype": "text/x-python",
   "name": "python",
   "nbconvert_exporter": "python",
   "pygments_lexer": "ipython3",
   "version": "3.10.8"
  }
 },
 "nbformat": 4,
 "nbformat_minor": 5
}
