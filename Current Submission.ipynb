{
 "cells": [
  {
   "cell_type": "code",
   "execution_count": 1,
   "id": "5393e245",
   "metadata": {},
   "outputs": [
    {
     "name": "stdout",
     "output_type": "stream",
     "text": [
      "Collecting tensorflow\n",
      "  Using cached tensorflow-2.11.0-cp38-cp38-manylinux_2_17_x86_64.manylinux2014_x86_64.whl (588.3 MB)\n",
      "Collecting absl-py>=1.0.0\n",
      "  Using cached absl_py-1.4.0-py3-none-any.whl (126 kB)\n",
      "Requirement already satisfied: typing-extensions>=3.6.6 in /opt/conda/lib/python3.8/site-packages (from tensorflow) (4.4.0)\n",
      "Collecting termcolor>=1.1.0\n",
      "  Using cached termcolor-2.2.0-py3-none-any.whl (6.6 kB)\n",
      "Collecting libclang>=13.0.0\n",
      "  Using cached libclang-15.0.6.1-py2.py3-none-manylinux2010_x86_64.whl (21.5 MB)\n",
      "Requirement already satisfied: h5py>=2.9.0 in /opt/conda/lib/python3.8/site-packages (from tensorflow) (3.6.0)\n",
      "Collecting astunparse>=1.6.0\n",
      "  Using cached astunparse-1.6.3-py2.py3-none-any.whl (12 kB)\n",
      "Collecting tensorflow-io-gcs-filesystem>=0.23.1\n",
      "  Using cached tensorflow_io_gcs_filesystem-0.30.0-cp38-cp38-manylinux_2_12_x86_64.manylinux2010_x86_64.whl (2.4 MB)\n",
      "Collecting tensorboard<2.12,>=2.11\n",
      "  Using cached tensorboard-2.11.2-py3-none-any.whl (6.0 MB)\n",
      "Requirement already satisfied: packaging in /opt/conda/lib/python3.8/site-packages (from tensorflow) (21.3)\n",
      "Requirement already satisfied: six>=1.12.0 in /opt/conda/lib/python3.8/site-packages (from tensorflow) (1.16.0)\n",
      "Collecting tensorflow-estimator<2.12,>=2.11.0\n",
      "  Using cached tensorflow_estimator-2.11.0-py2.py3-none-any.whl (439 kB)\n",
      "Collecting gast<=0.4.0,>=0.2.1\n",
      "  Using cached gast-0.4.0-py3-none-any.whl (9.8 kB)\n",
      "Collecting opt-einsum>=2.3.2\n",
      "  Using cached opt_einsum-3.3.0-py3-none-any.whl (65 kB)\n",
      "Collecting flatbuffers>=2.0\n",
      "  Using cached flatbuffers-23.1.21-py2.py3-none-any.whl (26 kB)\n",
      "Collecting grpcio<2.0,>=1.24.3\n",
      "  Using cached grpcio-1.51.1-cp38-cp38-manylinux_2_17_x86_64.manylinux2014_x86_64.whl (4.8 MB)\n",
      "Requirement already satisfied: protobuf<3.20,>=3.9.2 in /opt/conda/lib/python3.8/site-packages (from tensorflow) (3.14.0)\n",
      "Requirement already satisfied: setuptools in /opt/conda/lib/python3.8/site-packages (from tensorflow) (61.2.0)\n",
      "Requirement already satisfied: numpy>=1.20 in /opt/conda/lib/python3.8/site-packages (from tensorflow) (1.22.4)\n",
      "Collecting wrapt>=1.11.0\n",
      "  Using cached wrapt-1.14.1-cp38-cp38-manylinux_2_5_x86_64.manylinux1_x86_64.manylinux_2_17_x86_64.manylinux2014_x86_64.whl (81 kB)\n",
      "Collecting google-pasta>=0.1.1\n",
      "  Using cached google_pasta-0.2.0-py3-none-any.whl (57 kB)\n",
      "Collecting keras<2.12,>=2.11.0\n",
      "  Using cached keras-2.11.0-py2.py3-none-any.whl (1.7 MB)\n",
      "Requirement already satisfied: wheel<1.0,>=0.23.0 in /opt/conda/lib/python3.8/site-packages (from astunparse>=1.6.0->tensorflow) (0.38.4)\n",
      "Collecting tensorboard-data-server<0.7.0,>=0.6.0\n",
      "  Using cached tensorboard_data_server-0.6.1-py3-none-manylinux2010_x86_64.whl (4.9 MB)\n",
      "Collecting werkzeug>=1.0.1\n",
      "  Downloading Werkzeug-2.2.3-py3-none-any.whl (233 kB)\n",
      "\u001b[K     |████████████████████████████████| 233 kB 33.1 MB/s eta 0:00:01\n",
      "\u001b[?25hCollecting markdown>=2.6.8\n",
      "  Using cached Markdown-3.4.1-py3-none-any.whl (93 kB)\n",
      "Collecting google-auth-oauthlib<0.5,>=0.4.1\n",
      "  Using cached google_auth_oauthlib-0.4.6-py2.py3-none-any.whl (18 kB)\n",
      "Collecting google-auth<3,>=1.6.3\n",
      "  Downloading google_auth-2.16.1-py2.py3-none-any.whl (177 kB)\n",
      "\u001b[K     |████████████████████████████████| 177 kB 59.5 MB/s eta 0:00:01\n",
      "\u001b[?25hCollecting tensorboard-plugin-wit>=1.6.0\n",
      "  Using cached tensorboard_plugin_wit-1.8.1-py3-none-any.whl (781 kB)\n",
      "Requirement already satisfied: requests<3,>=2.21.0 in /opt/conda/lib/python3.8/site-packages (from tensorboard<2.12,>=2.11->tensorflow) (2.27.1)\n",
      "Collecting cachetools<6.0,>=2.0.0\n",
      "  Using cached cachetools-5.3.0-py3-none-any.whl (9.3 kB)\n",
      "Collecting pyasn1-modules>=0.2.1\n",
      "  Using cached pyasn1_modules-0.2.8-py2.py3-none-any.whl (155 kB)\n",
      "Collecting rsa<5,>=3.1.4\n",
      "  Using cached rsa-4.9-py3-none-any.whl (34 kB)\n",
      "Collecting requests-oauthlib>=0.7.0\n",
      "  Using cached requests_oauthlib-1.3.1-py2.py3-none-any.whl (23 kB)\n",
      "Requirement already satisfied: importlib-metadata>=4.4 in /opt/conda/lib/python3.8/site-packages (from markdown>=2.6.8->tensorboard<2.12,>=2.11->tensorflow) (6.0.0)\n",
      "Requirement already satisfied: zipp>=0.5 in /opt/conda/lib/python3.8/site-packages (from importlib-metadata>=4.4->markdown>=2.6.8->tensorboard<2.12,>=2.11->tensorflow) (3.7.0)\n",
      "Collecting pyasn1<0.5.0,>=0.4.6\n",
      "  Using cached pyasn1-0.4.8-py2.py3-none-any.whl (77 kB)\n",
      "Requirement already satisfied: certifi>=2017.4.17 in /opt/conda/lib/python3.8/site-packages (from requests<3,>=2.21.0->tensorboard<2.12,>=2.11->tensorflow) (2021.10.8)\n",
      "Requirement already satisfied: urllib3<1.27,>=1.21.1 in /opt/conda/lib/python3.8/site-packages (from requests<3,>=2.21.0->tensorboard<2.12,>=2.11->tensorflow) (1.26.9)\n",
      "Requirement already satisfied: charset-normalizer~=2.0.0 in /opt/conda/lib/python3.8/site-packages (from requests<3,>=2.21.0->tensorboard<2.12,>=2.11->tensorflow) (2.0.12)\n",
      "Requirement already satisfied: idna<4,>=2.5 in /opt/conda/lib/python3.8/site-packages (from requests<3,>=2.21.0->tensorboard<2.12,>=2.11->tensorflow) (3.3)\n",
      "Requirement already satisfied: oauthlib>=3.0.0 in /opt/conda/lib/python3.8/site-packages (from requests-oauthlib>=0.7.0->google-auth-oauthlib<0.5,>=0.4.1->tensorboard<2.12,>=2.11->tensorflow) (3.2.2)\n",
      "Requirement already satisfied: MarkupSafe>=2.1.1 in /opt/conda/lib/python3.8/site-packages (from werkzeug>=1.0.1->tensorboard<2.12,>=2.11->tensorflow) (2.1.1)\n",
      "Requirement already satisfied: pyparsing!=3.0.5,>=2.0.2 in /opt/conda/lib/python3.8/site-packages (from packaging->tensorflow) (3.0.7)\n",
      "Installing collected packages: pyasn1, rsa, pyasn1-modules, cachetools, requests-oauthlib, google-auth, werkzeug, tensorboard-plugin-wit, tensorboard-data-server, markdown, grpcio, google-auth-oauthlib, absl-py, wrapt, termcolor, tensorflow-io-gcs-filesystem, tensorflow-estimator, tensorboard, opt-einsum, libclang, keras, google-pasta, gast, flatbuffers, astunparse, tensorflow\n",
      "Successfully installed absl-py-1.4.0 astunparse-1.6.3 cachetools-5.3.0 flatbuffers-23.1.21 gast-0.4.0 google-auth-2.16.1 google-auth-oauthlib-0.4.6 google-pasta-0.2.0 grpcio-1.51.1 keras-2.11.0 libclang-15.0.6.1 markdown-3.4.1 opt-einsum-3.3.0 pyasn1-0.4.8 pyasn1-modules-0.2.8 requests-oauthlib-1.3.1 rsa-4.9 tensorboard-2.11.2 tensorboard-data-server-0.6.1 tensorboard-plugin-wit-1.8.1 tensorflow-2.11.0 tensorflow-estimator-2.11.0 tensorflow-io-gcs-filesystem-0.30.0 termcolor-2.2.0 werkzeug-2.2.3 wrapt-1.14.1\n",
      "Note: you may need to restart the kernel to use updated packages.\n"
     ]
    }
   ],
   "source": [
    "pip install tensorflow"
   ]
  },
  {
   "cell_type": "code",
   "execution_count": 2,
   "id": "f7155034-fac6-4159-8aeb-5f150c0ac927",
   "metadata": {},
   "outputs": [
    {
     "name": "stdout",
     "output_type": "stream",
     "text": [
      "Collecting sklearn\n",
      "  Downloading sklearn-0.0.post1.tar.gz (3.6 kB)\n",
      "Building wheels for collected packages: sklearn\n",
      "  Building wheel for sklearn (setup.py) ... \u001b[?25ldone\n",
      "\u001b[?25h  Created wheel for sklearn: filename=sklearn-0.0.post1-py3-none-any.whl size=2959 sha256=7e1bc73a0b93331568ef5ca269dc208662db7fed20cc979ae76d3b856c861aef\n",
      "  Stored in directory: /home/jovyan/.cache/pip/wheels/14/25/f7/1cc0956978ae479e75140219088deb7a36f60459df242b1a72\n",
      "Successfully built sklearn\n",
      "Installing collected packages: sklearn\n",
      "Successfully installed sklearn-0.0.post1\n",
      "Note: you may need to restart the kernel to use updated packages.\n"
     ]
    }
   ],
   "source": [
    "pip install sklearn"
   ]
  },
  {
   "cell_type": "code",
   "execution_count": 3,
   "id": "e019f2e1-ad01-49a3-b3f7-9477c7458095",
   "metadata": {},
   "outputs": [
    {
     "name": "stdout",
     "output_type": "stream",
     "text": [
      "Requirement already satisfied: matplotlib in /opt/conda/lib/python3.8/site-packages (3.5.1)\n",
      "Requirement already satisfied: python-dateutil>=2.7 in /opt/conda/lib/python3.8/site-packages (from matplotlib) (2.8.2)\n",
      "Requirement already satisfied: cycler>=0.10 in /opt/conda/lib/python3.8/site-packages (from matplotlib) (0.11.0)\n",
      "Requirement already satisfied: numpy>=1.17 in /opt/conda/lib/python3.8/site-packages (from matplotlib) (1.22.4)\n",
      "Requirement already satisfied: pillow>=6.2.0 in /opt/conda/lib/python3.8/site-packages (from matplotlib) (9.0.1)\n",
      "Requirement already satisfied: fonttools>=4.22.0 in /opt/conda/lib/python3.8/site-packages (from matplotlib) (4.31.2)\n",
      "Requirement already satisfied: pyparsing>=2.2.1 in /opt/conda/lib/python3.8/site-packages (from matplotlib) (3.0.7)\n",
      "Requirement already satisfied: packaging>=20.0 in /opt/conda/lib/python3.8/site-packages (from matplotlib) (21.3)\n",
      "Requirement already satisfied: kiwisolver>=1.0.1 in /opt/conda/lib/python3.8/site-packages (from matplotlib) (1.4.2)\n",
      "Requirement already satisfied: six>=1.5 in /opt/conda/lib/python3.8/site-packages (from python-dateutil>=2.7->matplotlib) (1.16.0)\n",
      "Note: you may need to restart the kernel to use updated packages.\n"
     ]
    }
   ],
   "source": [
    "pip install matplotlib"
   ]
  },
  {
   "cell_type": "code",
   "execution_count": null,
   "id": "6e750f82-596d-4031-8035-657f72eaef28",
   "metadata": {},
   "outputs": [],
   "source": [
    "#pip install qiskit"
   ]
  },
  {
   "cell_type": "markdown",
   "id": "5ae1c772",
   "metadata": {},
   "source": [
    "# Distributed Quantum Image and Signal Encoding for Multi-class Classification\n",
    "\n",
    "In the code below, we will implement a distributed amplitude encoder for encoding images in chunks of size n, which form a bigger image of size N. The number of chunks is determined by N/n, and the number of qubits per chunk is determined by ceil(log2(n)). This approach is useful given it allows us to encode high dimensional data using shallow Parameterized Quantum Circuits (PQCs), and still maintains a high fidelity (78 percent). This approach can be further improved by shallower PQCs which perform amplitude encoding using a lower depth, whilst maintaining the fidelity, which allows us to encode larger chunks for better fidelity. Furthermore, we can load multiple chunks in parallel to have a faster encoding process for the overall image.\n",
    "\n",
    "We will then implement a classifier to perform the labelling for inputted states. The pipeline for the overall process is :\n",
    "\n",
    "1) Import dataset\n",
    "\n",
    "2) Pass image to encoder\n",
    "\n",
    "2.1) Split image to smaller chunks and normalize each chunk\n",
    "\n",
    "2.2) Encode each chunk using RawFeatureVector (RFV) PQC\n",
    "\n",
    "2.3) Simulate each chunk to extract the statevector\n",
    "\n",
    "2.4) Append all chunks classically together and renormalize\n",
    "\n",
    "2.5) Denormalize the image statevector (Optional : decode to see the image)\n",
    "\n",
    "3) Pass statevector to classifer\n",
    "\n",
    "4) Train classifier\n",
    "\n",
    "5) Evaluate on test dataset"
   ]
  },
  {
   "cell_type": "markdown",
   "id": "c78624fa-a9b4-4458-9b8e-c5014decc8a5",
   "metadata": {},
   "source": [
    "First, we will import the necessary packages. For the model, we will be using Qiskit, for plotting we will be using Matplotlib, and for the dataset we will be importing TensorFlow's Fashion MNIST dataset."
   ]
  },
  {
   "cell_type": "code",
   "execution_count": 8,
   "id": "73194ae9",
   "metadata": {},
   "outputs": [
    {
     "name": "stdout",
     "output_type": "stream",
     "text": [
      "Traceback \u001b[1;36m(most recent call last)\u001b[0m:\n",
      "  Input \u001b[0;32mIn [8]\u001b[0m in \u001b[0;35m<cell line: 25>\u001b[0m\n",
      "    from sklearn.metrics import mean_squared_error\n",
      "  File \u001b[0;32m/opt/conda/lib/python3.8/site-packages/sklearn/metrics/__init__.py:41\u001b[0m in \u001b[0;35m<module>\u001b[0m\n",
      "    from . import cluster\n",
      "  File \u001b[0;32m/opt/conda/lib/python3.8/site-packages/sklearn/metrics/cluster/__init__.py:22\u001b[0m in \u001b[0;35m<module>\u001b[0m\n",
      "    from ._unsupervised import silhouette_samples\n",
      "  File \u001b[0;32m/opt/conda/lib/python3.8/site-packages/sklearn/metrics/cluster/_unsupervised.py:16\u001b[0m in \u001b[0;35m<module>\u001b[0m\n",
      "    from ..pairwise import pairwise_distances_chunked\n",
      "  File \u001b[0;32m/opt/conda/lib/python3.8/site-packages/sklearn/metrics/pairwise.py:33\u001b[0m in \u001b[0;35m<module>\u001b[0m\n",
      "    from ._pairwise_distances_reduction import PairwiseDistancesArgKmin\n",
      "  File \u001b[0;32m/opt/conda/lib/python3.8/site-packages/sklearn/metrics/_pairwise_distances_reduction/__init__.py:89\u001b[0m in \u001b[0;35m<module>\u001b[0m\n",
      "    from ._dispatcher import (\n",
      "  File \u001b[0;32m/opt/conda/lib/python3.8/site-packages/sklearn/metrics/_pairwise_distances_reduction/_dispatcher.py:11\u001b[0m in \u001b[0;35m<module>\u001b[0m\n",
      "    from ._base import _sqeuclidean_row_norms32, _sqeuclidean_row_norms64\n",
      "\u001b[1;36m  File \u001b[1;32msklearn/metrics/_pairwise_distances_reduction/_base.pyx:1\u001b[1;36m in \u001b[1;35minit sklearn.metrics._pairwise_distances_reduction._base\u001b[1;36m\u001b[0m\n",
      "\u001b[1;31mAttributeError\u001b[0m\u001b[1;31m:\u001b[0m module 'sklearn.metrics._dist_metrics' has no attribute 'DistanceMetric32'\n",
      "\n",
      "Use %tb to get the full traceback.\n"
     ]
    },
    {
     "data": {
      "text/html": [
       "\n",
       "<style>\n",
       ".button {\n",
       "  border: none;\n",
       "  color: white;\n",
       "  padding: 4px 8px;\n",
       "  text-align: center;\n",
       "  text-decoration: none;\n",
       "  display: inline-block;\n",
       "  font-size: 12px;\n",
       "  margin: 4px 2px;\n",
       "  transition-duration: 0.2s;\n",
       "  cursor: pointer;\n",
       "}\n",
       ".iqx-button {\n",
       "  background-color: #0f62fe; \n",
       "  color: white; \n",
       "}\n",
       ".iqx-button:hover {\n",
       "  background-color: #0043ce;\n",
       "  color: white;\n",
       "}\n",
       "</style>\n",
       "<a href=\"https://stackoverflow.com/search?q=AttributeError: module 'sklearn.metrics._dist_metrics' has no attribute 'DistanceMetric32'\" target='_blank'><button class='button iqx-button'>Search for solution online</button></a>\n"
      ],
      "text/plain": [
       "<IPython.core.display.HTML object>"
      ]
     },
     "metadata": {},
     "output_type": "display_data"
    }
   ],
   "source": [
    "import warnings \n",
    "warnings.filterwarnings(\"ignore\")\n",
    "\n",
    "import numpy as np\n",
    "from typing import Dict, List\n",
    "\n",
    "# Importing standard Qiskit libraries\n",
    "import qiskit\n",
    "from qiskit import QuantumCircuit, transpile, Aer, BasicAer, execute\n",
    "from qiskit.algorithms.optimizers import COBYLA\n",
    "from qiskit.tools.jupyter import *\n",
    "from qiskit.visualization import *\n",
    "from qiskit_aer import StatevectorSimulator\n",
    "from qiskit.providers.aer import QasmSimulator\n",
    "from qiskit_machine_learning.circuit.library import RawFeatureVector\n",
    "from qiskit.circuit import Parameter\n",
    "from qiskit.quantum_info import Statevector\n",
    "from qiskit.quantum_info.operators import Operator\n",
    "\n",
    "import pickle\n",
    "from matplotlib import pyplot as plt\n",
    "\n",
    "from tensorflow.keras.datasets import fashion_mnist\n",
    "from sklearn.preprocessing import normalize\n",
    "from sklearn.metrics import mean_squared_error\n",
    "from collections import Counter\n",
    "\n",
    "print(\"All packages imported successfully!\")"
   ]
  },
  {
   "cell_type": "markdown",
   "id": "9f498c01-c75d-4351-be16-586084a844df",
   "metadata": {},
   "source": [
    "We will load the train and test datapoints."
   ]
  },
  {
   "cell_type": "code",
   "execution_count": 2,
   "id": "876e03c7",
   "metadata": {},
   "outputs": [],
   "source": [
    "(X_train, Y_train), (X_test, Y_test) = fashion_mnist.load_data()"
   ]
  },
  {
   "cell_type": "markdown",
   "id": "6122672a-ce7f-466b-8d90-9ec7f34942f2",
   "metadata": {},
   "source": [
    "We can see the shape of the datapoints using X_train[0].shape."
   ]
  },
  {
   "cell_type": "code",
   "execution_count": 3,
   "id": "972efc8b",
   "metadata": {},
   "outputs": [],
   "source": [
    "data_shape = X_train[0].shape"
   ]
  },
  {
   "cell_type": "markdown",
   "id": "d09fdbb5",
   "metadata": {},
   "source": [
    "To see how many qubits we will need for the overall image, we will take the log2 of the image vector. This is essentially to see how many qubits we need to cover all pixels."
   ]
  },
  {
   "cell_type": "code",
   "execution_count": 5,
   "id": "29e4784b",
   "metadata": {},
   "outputs": [
    {
     "data": {
      "text/plain": [
       "10"
      ]
     },
     "execution_count": 5,
     "metadata": {},
     "output_type": "execute_result"
    }
   ],
   "source": [
    "int(np.ceil(np.log2(X_train[0].size)))"
   ]
  },
  {
   "cell_type": "markdown",
   "id": "a0b2499d-7b83-4e85-9699-8e43ad6ef12f",
   "metadata": {},
   "source": [
    "In some cases, the number of qubits for the datapoint can support even higher number of pixels. For instance, Fashion MNIST uses 28 x 28 images, which means each image has 784 pixels. We will need 10 qubits at least to represent the image, but we can represent a maximum of 1024 pixels. However, even if we don't wish to add any additional pixels, we still need to pad the vector with 0s to get a vector of 1024."
   ]
  },
  {
   "cell_type": "code",
   "execution_count": 4,
   "id": "901e43e3",
   "metadata": {},
   "outputs": [
    {
     "data": {
      "text/plain": [
       "1024"
      ]
     },
     "execution_count": 4,
     "metadata": {},
     "output_type": "execute_result"
    }
   ],
   "source": [
    "2**int(np.ceil(np.log2(X_train[0].size)))"
   ]
  },
  {
   "cell_type": "markdown",
   "id": "99229496-e660-4f44-aacd-3fefdb9fef61",
   "metadata": {},
   "source": [
    "Here is our normalize(x) function. It takes in a vector as an input, and returns the 2-norm normalized vector."
   ]
  },
  {
   "cell_type": "code",
   "execution_count": 6,
   "id": "6e3a0634",
   "metadata": {},
   "outputs": [],
   "source": [
    "def normalize(x):\n",
    "    \"\"\"Here is our normalize(x) function. It takes in a vector as an input, and returns the 2-norm normalized vector.\n",
    "\n",
    "    Args:\n",
    "        x (np.array): \n",
    "            The image vector.\n",
    "\n",
    "    Returns:\n",
    "        (numpy.array): The 2-norm normalized vector.\n",
    "    \"\"\"\n",
    "    x = x.flatten() # First we flatten the image in case it is a 2d array\n",
    "    normalized_vector = x / np.linalg.norm(x) # Then we normalize the vector to 2-norm\n",
    "    normalized_vector = [*normalized_vector] # We then format to return an np.array\n",
    "\n",
    "    return normalized_vector # we return the normalized vector\n",
    "\n",
    "def de_normalize(normalized_vector, x):\n",
    "    \"\"\"Here is our denormalize(x) function. It takes in a 2-norm normalized vector as an input, and returns denormalized vector.\n",
    "\n",
    "    Args:\n",
    "        x (np.array): \n",
    "            The 2-norm normalized vector.\n",
    "\n",
    "    Returns:\n",
    "        (numpy.array): The denormalized vector.\n",
    "    \"\"\"\n",
    "    return normalized_vector * np.linalg.norm(x.flatten()) # We return the denormalized vector by applying the inverse of the normalization factor"
   ]
  },
  {
   "cell_type": "markdown",
   "id": "f8c9bf9a-88d7-482b-a7f7-507026dcd268",
   "metadata": {},
   "source": [
    "We can see how these functions work in the cell below."
   ]
  },
  {
   "cell_type": "code",
   "execution_count": 7,
   "id": "6dabde13",
   "metadata": {},
   "outputs": [],
   "source": [
    "normalized_vector = np.array(normalize(X_train[0]))\n",
    "de_normalized_vector = de_normalize(normalized_vector,np.array(X_train[0]))"
   ]
  },
  {
   "cell_type": "code",
   "execution_count": 8,
   "id": "f2da7bbb",
   "metadata": {},
   "outputs": [
    {
     "data": {
      "text/plain": [
       "True"
      ]
     },
     "execution_count": 8,
     "metadata": {},
     "output_type": "execute_result"
    }
   ],
   "source": [
    "np.allclose(\n",
    "        X_train[0], np.reshape(np.array(de_normalized_vector[:784]),data_shape), rtol=1e-2\n",
    "    )"
   ]
  },
  {
   "cell_type": "markdown",
   "id": "ebd7db0e-8146-4e3d-a8e3-559443b7b987",
   "metadata": {},
   "source": [
    "We will create and append all the normalized vectors of the training set."
   ]
  },
  {
   "cell_type": "code",
   "execution_count": 9,
   "id": "54703421",
   "metadata": {},
   "outputs": [
    {
     "data": {
      "text/plain": [
       "(100, 784)"
      ]
     },
     "execution_count": 9,
     "metadata": {},
     "output_type": "execute_result"
    }
   ],
   "source": [
    "X_train_list = []\n",
    "for i in range(100):\n",
    "    X_train_list.append(normalize(X_train[i]))\n",
    "\n",
    "np.shape(X_train_list)"
   ]
  },
  {
   "cell_type": "markdown",
   "id": "6c44bce9-23ca-43e3-96dc-d5b28613d10d",
   "metadata": {},
   "source": [
    "We will create and append all the normalized vectors of the test set."
   ]
  },
  {
   "cell_type": "code",
   "execution_count": 10,
   "id": "2ad71107",
   "metadata": {},
   "outputs": [
    {
     "data": {
      "text/plain": [
       "(100, 784)"
      ]
     },
     "execution_count": 10,
     "metadata": {},
     "output_type": "execute_result"
    }
   ],
   "source": [
    "X_test_list = []\n",
    "for i in range(100):\n",
    "    X_test_list.append(normalize(X_test[i]))\n",
    "np.shape(X_test_list)"
   ]
  },
  {
   "cell_type": "markdown",
   "id": "0638fa04",
   "metadata": {
    "jp-MarkdownHeadingCollapsed": true,
    "tags": []
   },
   "source": [
    "To encode an image, we will follow the steps below :\n",
    "\n",
    "1) Pass image to encoder\n",
    "\n",
    "2) Split image to smaller chunks and normalize each chunk\n",
    "\n",
    "3) Encode each chunk using RawFeatureVector (RFV) PQC\n",
    "\n",
    "4) Simulate each chunk to extract the statevector\n",
    "\n",
    "5) Append all chunks classically together and renormalize\n",
    "\n",
    "6) Denormalize the image statevector (Optional : decode to see the image)"
   ]
  },
  {
   "cell_type": "markdown",
   "id": "74ee63ad-1cda-458f-be8c-818e618d2186",
   "metadata": {},
   "source": [
    "Here is an image before normalizing."
   ]
  },
  {
   "cell_type": "code",
   "execution_count": 11,
   "id": "cb2bd8e0",
   "metadata": {
    "scrolled": true
   },
   "outputs": [
    {
     "name": "stdout",
     "output_type": "stream",
     "text": [
      "before normalize:\n"
     ]
    },
    {
     "data": {
      "text/plain": [
       "<matplotlib.image.AxesImage at 0x7f65eb3f39d0>"
      ]
     },
     "metadata": {},
     "output_type": "display_data"
    },
    {
     "data": {
      "image/png": "[encoded data removed]",
      "text/plain": [
       "<Figure size 432x288 with 1 Axes>"
      ]
     },
     "metadata": {
      "needs_background": "light"
     },
     "output_type": "display_data"
    }
   ],
   "source": [
    "print('before normalize:')\n",
    "display(plt.imshow(X_train[0]))"
   ]
  },
  {
   "cell_type": "markdown",
   "id": "0cfd03da-8d0c-43af-abf1-5d197d720a00",
   "metadata": {},
   "source": [
    "Here is the same image after normalizing. We can see the image is not changed, hence assuring us the ratios are the same."
   ]
  },
  {
   "cell_type": "code",
   "execution_count": 12,
   "id": "c5fc7165",
   "metadata": {
    "scrolled": true
   },
   "outputs": [
    {
     "name": "stdout",
     "output_type": "stream",
     "text": [
      "after normalize:\n"
     ]
    },
    {
     "data": {
      "text/plain": [
       "<matplotlib.image.AxesImage at 0x7f65eb285b20>"
      ]
     },
     "execution_count": 12,
     "metadata": {},
     "output_type": "execute_result"
    },
    {
     "data": {
      "image/png": "[encoded data removed]",
      "text/plain": [
       "<Figure size 432x288 with 1 Axes>"
      ]
     },
     "metadata": {
      "needs_background": "light"
     },
     "output_type": "display_data"
    }
   ],
   "source": [
    "normalized_vector = normalize(X_train[0])\n",
    "#print(normalized_vector)\n",
    "print('after normalize:')\n",
    "plt.imshow(np.reshape(np.array(normalized_vector[:784]),data_shape))"
   ]
  },
  {
   "cell_type": "markdown",
   "id": "810adc31",
   "metadata": {},
   "source": [
    "The PQC we will be using to encode the image chunks will be RawFeatureVector. RawFeatureVector is a shallow PQC used for real-valued amplitude encoding. For a vector of size n, we will need a minimum of ceil(log2(n)) qubits, and must pad the vector to make sure it matches 2^(ceil(log2(n)) = n. "
   ]
  },
  {
   "cell_type": "code",
   "execution_count": 13,
   "id": "c9ac8af7",
   "metadata": {},
   "outputs": [
    {
     "data": {
      "text/plain": [
       "1024"
      ]
     },
     "execution_count": 13,
     "metadata": {},
     "output_type": "execute_result"
    }
   ],
   "source": [
    "state = normalized_vector\n",
    "n = 10\n",
    "qc = RawFeatureVector(2**n)\n",
    "print(\"This circuit has \" + str(n) + \" qubits and \" + str(qc.num_parameters) + \" parameters.\")\n",
    "print(\"Below, you can see the circuit\")\n",
    "qc.decompose(reps=20).draw()"
   ]
  },
  {
   "cell_type": "markdown",
   "id": "82e19504",
   "metadata": {},
   "source": [
    "This is the simulate(circ) function, which takes a circuit, and extracts the statevector. We can use either the StatevectorSimulator or design a protocol that extracts this from measurements. \n",
    "\n",
    "Using the cell below, we can choose the best parameters for our simulator with respect to precision and GPU."
   ]
  },
  {
   "cell_type": "code",
   "execution_count": 6,
   "id": "c989541b-ef42-4fd5-9526-45f3d75b3162",
   "metadata": {},
   "outputs": [
    {
     "data": {
      "text/plain": [
       "('CPU',)"
      ]
     },
     "execution_count": 6,
     "metadata": {},
     "output_type": "execute_result"
    }
   ],
   "source": [
    "backend = StatevectorSimulator(precision='single')\n",
    "backend.available_devices()"
   ]
  },
  {
   "cell_type": "code",
   "execution_count": 14,
   "id": "e7f28b28",
   "metadata": {},
   "outputs": [],
   "source": [
    "def simulate(circ: qiskit.QuantumCircuit) -> dict:\n",
    "    \"\"\"This is the simulate(circ) function, which takes a circuit, and extracts the statevector.\n",
    "\n",
    "    Args:\n",
    "        circ (qiskit.QuantumCircuit): \n",
    "            The quantum circuit representing the encoded vector.\n",
    "\n",
    "    Returns:\n",
    "        (dict): The simulated statevector as a dict.\n",
    "    \"\"\"\n",
    "    backend = StatevectorSimulator(precision='double', device = \"GPU\", max_parallel_threads = 5) # First we initialize our bachend\n",
    "    job = execute(circ, backend,optimization_level=0) # We run the circuit on the simulator\n",
    "    result = job.result() # We extract the result from the job\n",
    "    state_vector = result.get_statevector() # We extract the state vector\n",
    "    \n",
    "    histogram = dict() # We initialize dictionary\n",
    "    for i in range(len(state_vector)): # We iterate over the length of the statevector\n",
    "        population = abs(state_vector[i]) ** 2 # We take the absolute value\n",
    "        histogram[i] = population # We append to the histogram\n",
    "    \n",
    "    return histogram # We return the histogram"
   ]
  },
  {
   "cell_type": "markdown",
   "id": "863c31fb-23c3-44a6-b2ca-678d32d95f25",
   "metadata": {},
   "source": [
    "We can now implement our encoding protocol. We will be using two functions for the encoder, and one function for the decoder. The Distributed Encoding Protocol is implemented by using encode_shallow which takes a chunk size, and an image, and internally runs encode_qiskit, which takes a chunk and the number of qubits, and returns the encoded PQC, which evidently gets added to a list which is returns by encode_shallow.\n",
    "\n",
    "Then we have the decoder, which takes a vector and the original image, and returns the decoded representation. "
   ]
  },
  {
   "cell_type": "code",
   "execution_count": 15,
   "id": "6c8605ca",
   "metadata": {},
   "outputs": [],
   "source": [
    "def encode_qiskit(x,num_qubit):\n",
    "    \"\"\"This is the encode_qiskit(x, num_qubit) function, which takes a vector and number of qubits, normalizes it, and returns its encoded representation as a PQC.\n",
    "\n",
    "    Args:\n",
    "        x (np.array): \n",
    "            The image vector.\n",
    "        num_qubit (int):\n",
    "            The number of qubits.\n",
    "\n",
    "    Returns:\n",
    "        (qc): The PQC from encoding the vector.\n",
    "    \"\"\"\n",
    "    normalized_vector = normalize(x) # We normalize the vector\n",
    "    qc = RawFeatureVector(2**num_qubit) # We initialize RFV\n",
    "    # print(\"Number of pixels in each chunk is \" + str(len(qc.parameters)))\n",
    "    return qc.bind_parameters(normalized_vector) # We encode the vector and return the PQC\n",
    "\n",
    "def encode_shallow(n, image):\n",
    "    \"\"\"This is the encode_shallow(n, image) function, which takes an image and the chunk size, and encodes each chunk separately, and returns the list of PQCs.\n",
    "\n",
    "    Args:\n",
    "        n (int): \n",
    "            The chunk size.\n",
    "        image (np.array):\n",
    "            The image vector.\n",
    "\n",
    "    Returns:\n",
    "        (qc_list): The list of PQCs from encoding the vector chunks.\n",
    "    \"\"\"\n",
    "    qubit = int(np.ceil(np.log2(n))) # Getting the qubit number\n",
    "    # print(\"Number of qubits is \" + str(qubit))\n",
    "    image = image.flatten() # Flatenning the 2D image\n",
    "    state_chunks = [image[i * n:(i + 1) * n] for i in range((len(image) + n - 1) // n)] # Discretizing the image into chunks of size n\n",
    "    # print(\"Number of pixels in each chunk is \" + str(len(state_chunks[0])))\n",
    "    qc_list = [] # List of PQCs\n",
    "    for i in range(len(state_chunks)) : # Iterating over the chunks\n",
    "        if all(v == 0 for v in state_chunks[i]): # If an entire chunk is made of all 0s, then we simply append it, and do not need to encode it\n",
    "            qc_list.append(state_chunks[i])\n",
    "        else:\n",
    "            qc = encode_qiskit(state_chunks[i], qubit) # Else, we pass it to encode_qiskit\n",
    "            qc_list.append(qc) # And append the qc to the list\n",
    "        \n",
    "    return qc_list # Lastly, we return the list of PQCs representing each chunk\n",
    "\n",
    "def decode(histogram, data):\n",
    "    \"\"\"This is the decode(histogram, data) function, which takes a histogram and the original image, and returns the decoded vector.\n",
    "\n",
    "    Args:\n",
    "        histogram (dict): \n",
    "            The histogram representing the statevector.\n",
    "        data (np.array):\n",
    "            The original image vector\n",
    "\n",
    "    Returns:\n",
    "        (np.reshape(de_normalize(after_,data)[:784],data_shape)): The decoded image vector\n",
    "    \"\"\"\n",
    "    new_histogram = {} # First we initialize the histogram\n",
    "    for key in range(len(qc.parameters)): # Iterating over the keys\n",
    "        if key in histogram: # If a key is existing in the histogram\n",
    "            new_histogram[key] = histogram[key] # We simply append it (this protocol is for when we can only return non-zero amplitudes)\n",
    "        else: # Else if a key is not there\n",
    "            new_histogram[key] = 0 # We append a 0\n",
    "    #print(new_histogram)\n",
    "    after_ = np.array(list(new_histogram.values())) # We convert the histogram to a list of its values\n",
    "    return np.reshape(de_normalize(after_,data)[:784],data_shape) # And we return the denormalized vector"
   ]
  },
  {
   "cell_type": "markdown",
   "id": "59e25505-8679-4c05-b8a6-8388b7169ef0",
   "metadata": {},
   "source": [
    "We will also be implementing two functions for evaluating the encoder with respect to depth and fidelity."
   ]
  },
  {
   "cell_type": "code",
   "execution_count": null,
   "id": "ae806f4f-7bdd-49fe-8179-60afbde75348",
   "metadata": {},
   "outputs": [],
   "source": [
    "def count_gates(circuit: qiskit.QuantumCircuit) -> Dict[int, int]:\n",
    "    \"\"\"This is the count_gates(circuit: qiskit.QuantumCircuit) function, which takes a circuit and returns the number of gate operations with each number of qubits.\n",
    "\n",
    "    Args:\n",
    "        circuit (qiskit.QuantumCircuit): \n",
    "            The quantum circuit representing a vector.\n",
    "\n",
    "    Returns:\n",
    "        (Dict): the number of gate operations with each number of qubits.\n",
    "    \"\"\"\n",
    "    return Counter([len(gate[1]) for gate in circuit.data])\n",
    "\n",
    "def image_mse(image1,image2):\n",
    "    \"\"\"This is the image_mse(image1,image2) function, which takes two images and returns the mean squared error between the two.\n",
    "        Using sklearns mean squared error:\n",
    "        https://scikit-learn.org/stable/modules/generated/sklearn.metrics.mean_squared_error.html\n",
    "\n",
    "    Args:\n",
    "        image1 (np.array): \n",
    "            An image vector.\n",
    "        image2 (np.array):\n",
    "            An image vector.\n",
    "            \n",
    "    Returns:\n",
    "        (mean_squared_error(image1, image2)): the mean squared error between the two images.\n",
    "    \"\"\"\n",
    "    return mean_squared_error(image1, image2)"
   ]
  },
  {
   "cell_type": "markdown",
   "id": "16332b0d-ba7d-405c-87e2-94c8b082b38a",
   "metadata": {},
   "source": [
    "To put it all together, we will be using extract_image_re function, which takes an image, encodes it using the distributed encoding protocol, simulates it, extracts the overall encoded vector representing the image, denormalizes it, and returns the vector and histogram representation."
   ]
  },
  {
   "cell_type": "code",
   "execution_count": 38,
   "id": "38cd420c-bfb2-489c-852b-a2e7c1c5b530",
   "metadata": {},
   "outputs": [],
   "source": [
    "def extract_image_re(data):\n",
    "    \"\"\"This is the extract_image_re(data) function, which takes an image and returns the decoded representation.\n",
    "\n",
    "    Args:\n",
    "        data (np.array): \n",
    "            The image vector.\n",
    "\n",
    "    Returns:\n",
    "        (image_re, hist_new): the the vector and histogram representation of the decoded vector.\n",
    "    \"\"\"\n",
    "    histogram = []\n",
    "    image_re = []\n",
    "    hist_new = []\n",
    "    circuit_list = encode_shallow(16, data)\n",
    "    for i in range(len(circuit_list)):\n",
    "        if all(v == 0 for v in circuit_list[i]):\n",
    "            histogram.append(circuit_list[i])\n",
    "        else:\n",
    "            histogram.append(simulate(circuit_list[i]))\n",
    "    \n",
    "    for i in range(len(histogram)):\n",
    "        if type(histogram[i]) is dict:\n",
    "            temp = list(histogram[i].values())\n",
    "            for j in range(16):\n",
    "                hist_new.append(temp[j])\n",
    "        else:\n",
    "            for j in range(16):\n",
    "                hist_new.append(histogram[i][j])\n",
    "            \n",
    "    print(len(hist_new))\n",
    "    hist_new = hist_new / np.linalg.norm(hist_new)\n",
    "    \n",
    "    sum = 0\n",
    "    for i in range(len(hist_new)):\n",
    "        sum+=hist_new[i]**2\n",
    "    print(sum)\n",
    "    \n",
    "    image_re = de_normalize(hist_new, X_train[0])\n",
    "    print(image_re)\n",
    "    return image_re, hist_new"
   ]
  },
  {
   "cell_type": "markdown",
   "id": "e1fd73bf-b2b5-4604-9aca-e083b2995f0b",
   "metadata": {},
   "source": [
    "We can now do the protocol for the entire dataset, and then evaluate the protocol."
   ]
  },
  {
   "cell_type": "code",
   "execution_count": 39,
   "id": "5236a514",
   "metadata": {},
   "outputs": [
    {
     "name": "stdout",
     "output_type": "stream",
     "text": [
      "784\n",
      "0.9999999999999996\n",
      "[0.00000000e+00 0.00000000e+00 0.00000000e+00 0.00000000e+00\n",
      " 0.00000000e+00 0.00000000e+00 0.00000000e+00 0.00000000e+00\n",
      " 0.00000000e+00 0.00000000e+00 0.00000000e+00 0.00000000e+00\n",
      " 0.00000000e+00 0.00000000e+00 0.00000000e+00 0.00000000e+00\n",
      " 0.00000000e+00 0.00000000e+00 0.00000000e+00 0.00000000e+00\n",
      " 0.00000000e+00 0.00000000e+00 0.00000000e+00 0.00000000e+00\n",
      " 0.00000000e+00 0.00000000e+00 0.00000000e+00 0.00000000e+00\n",
      " 0.00000000e+00 0.00000000e+00 0.00000000e+00 0.00000000e+00\n",
      " 0.00000000e+00 0.00000000e+00 0.00000000e+00 0.00000000e+00\n",
      " 0.00000000e+00 0.00000000e+00 0.00000000e+00 0.00000000e+00\n",
      " 0.00000000e+00 0.00000000e+00 0.00000000e+00 0.00000000e+00\n",
      " 0.00000000e+00 0.00000000e+00 0.00000000e+00 0.00000000e+00\n",
      " 0.00000000e+00 0.00000000e+00 0.00000000e+00 0.00000000e+00\n",
      " 0.00000000e+00 0.00000000e+00 0.00000000e+00 0.00000000e+00\n",
      " 0.00000000e+00 0.00000000e+00 0.00000000e+00 0.00000000e+00\n",
      " 0.00000000e+00 0.00000000e+00 0.00000000e+00 0.00000000e+00\n",
      " 0.00000000e+00 0.00000000e+00 0.00000000e+00 0.00000000e+00\n",
      " 0.00000000e+00 0.00000000e+00 0.00000000e+00 0.00000000e+00\n",
      " 0.00000000e+00 0.00000000e+00 0.00000000e+00 0.00000000e+00\n",
      " 0.00000000e+00 0.00000000e+00 0.00000000e+00 0.00000000e+00\n",
      " 0.00000000e+00 0.00000000e+00 0.00000000e+00 0.00000000e+00\n",
      " 0.00000000e+00 0.00000000e+00 0.00000000e+00 0.00000000e+00\n",
      " 0.00000000e+00 0.00000000e+00 0.00000000e+00 0.00000000e+00\n",
      " 0.00000000e+00 0.00000000e+00 0.00000000e+00 0.00000000e+00\n",
      " 2.59891569e-01 0.00000000e+00 0.00000000e+00 4.39216752e+01\n",
      " 1.38496217e+03 0.00000000e+00 0.00000000e+00 2.59891569e-01\n",
      " 4.15826511e+00 0.00000000e+00 0.00000000e+00 0.00000000e+00\n",
      " 0.00000000e+00 2.59891569e-01 2.59891569e-01 0.00000000e+00\n",
      " 0.00000000e+00 0.00000000e+00 0.00000000e+00 0.00000000e+00\n",
      " 0.00000000e+00 0.00000000e+00 0.00000000e+00 0.00000000e+00\n",
      " 0.00000000e+00 0.00000000e+00 0.00000000e+00 0.00000000e+00\n",
      " 6.51822388e-01 0.00000000e+00 9.38624239e+01 1.33956743e+03\n",
      " 1.00899945e+03 2.40473302e+02 1.82419393e+02 0.00000000e+00\n",
      " 0.00000000e+00 0.00000000e+00 6.25580910e-02 5.63022819e-01\n",
      " 1.00092946e+00 0.00000000e+00 0.00000000e+00 5.63022819e-01\n",
      " 0.00000000e+00 0.00000000e+00 0.00000000e+00 0.00000000e+00\n",
      " 0.00000000e+00 0.00000000e+00 0.00000000e+00 0.00000000e+00\n",
      " 0.00000000e+00 0.00000000e+00 0.00000000e+00 0.00000000e+00\n",
      " 3.77243761e-01 0.00000000e+00 1.09023447e+02 4.36093788e+02\n",
      " 3.24597298e+02 1.88160805e+02 2.17292406e+02 1.58536691e+02\n",
      " 9.81409066e+02 0.00000000e+00 0.00000000e+00 0.00000000e+00\n",
      " 0.00000000e+00 2.67151050e+02 1.85521563e+02 0.00000000e+00\n",
      " 0.00000000e+00 0.00000000e+00 0.00000000e+00 0.00000000e+00\n",
      " 0.00000000e+00 0.00000000e+00 0.00000000e+00 0.00000000e+00\n",
      " 0.00000000e+00 0.00000000e+00 0.00000000e+00 0.00000000e+00\n",
      " 0.00000000e+00 0.00000000e+00 1.48210114e+02 3.43588366e+02\n",
      " 2.64335283e+02 1.95458449e+02 7.06288281e+01 1.50128671e+02\n",
      " 1.59906529e+02 7.32938341e+01 2.52682051e+01 3.26339855e+00\n",
      " 3.01096720e+02 8.58244994e+02 2.63262843e+02 1.14263387e+01\n",
      " 0.00000000e+00 0.00000000e+00 0.00000000e+00 0.00000000e+00\n",
      " 0.00000000e+00 0.00000000e+00 0.00000000e+00 0.00000000e+00\n",
      " 0.00000000e+00 0.00000000e+00 0.00000000e+00 5.07837274e-02\n",
      " 0.00000000e+00 1.73608631e+01 1.56247768e+02 1.81335509e+02\n",
      " 1.73295034e+02 1.70129895e+02 1.70129895e+02 9.68831698e+01\n",
      " 5.88139804e+01 5.33880270e+01 5.42741202e+01 7.77282415e+01\n",
      " 7.24955511e+01 2.82382953e+01 1.07877289e+02 1.58840411e+01\n",
      " 0.00000000e+00 0.00000000e+00 0.00000000e+00 0.00000000e+00\n",
      " 0.00000000e+00 0.00000000e+00 0.00000000e+00 0.00000000e+00\n",
      " 0.00000000e+00 9.71264454e-03 9.71264454e-03 9.71264454e-03\n",
      " 0.00000000e+00 3.88505782e+02 5.22773380e+02 5.22773380e+02\n",
      " 1.74252641e+02 1.68321073e+02 1.59616305e+02 1.59616305e+02\n",
      " 1.48369436e+02 1.45621914e+02 8.63287044e+01 5.17696190e+01\n",
      " 4.85598962e+01 1.23304711e+02 1.68321073e+02 0.00000000e+00\n",
      " 0.00000000e+00 0.00000000e+00 0.00000000e+00 0.00000000e+00\n",
      " 0.00000000e+00 0.00000000e+00 0.00000000e+00 0.00000000e+00\n",
      " 0.00000000e+00 0.00000000e+00 0.00000000e+00 0.00000000e+00\n",
      " 0.00000000e+00 1.41570528e+02 2.14010810e+02 1.97232362e+02\n",
      " 2.10223082e+02 2.19755811e+02 2.33456730e+02 2.17832356e+02\n",
      " 2.12788273e+02 2.09005446e+02 2.12788273e+02 2.07126754e+02\n",
      " 2.10892618e+02 2.54556283e+02 1.26924032e+02 0.00000000e+00\n",
      " 0.00000000e+00 0.00000000e+00 0.00000000e+00 0.00000000e+00\n",
      " 0.00000000e+00 0.00000000e+00 0.00000000e+00 0.00000000e+00\n",
      " 0.00000000e+00 0.00000000e+00 0.00000000e+00 0.00000000e+00\n",
      " 0.00000000e+00 1.10735663e+02 1.54540597e+02 1.41281689e+02\n",
      " 1.34875199e+02 1.16547583e+02 9.63203164e+01 1.33611738e+02\n",
      " 1.31102653e+02 1.32354222e+02 1.34875199e+02 1.47836821e+02\n",
      " 4.68151550e+02 5.71154564e+02 3.94678840e+02 0.00000000e+00\n",
      " 0.00000000e+00 0.00000000e+00 0.00000000e+00 0.00000000e+00\n",
      " 0.00000000e+00 0.00000000e+00 0.00000000e+00 0.00000000e+00\n",
      " 0.00000000e+00 9.67255269e-03 8.70529742e-02 0.00000000e+00\n",
      " 3.28779045e-01 1.09503971e+02 1.10506290e+02 1.02615593e+02\n",
      " 1.08506217e+02 8.41674354e+01 6.52101270e+01 1.17650385e+02\n",
      " 9.87798374e+01 1.08506217e+02 1.14561232e+02 1.02615593e+02\n",
      " 1.16616101e+02 8.86082357e+01 9.97319267e+01 6.17373984e+00\n",
      " 0.00000000e+00 0.00000000e+00 0.00000000e+00 0.00000000e+00\n",
      " 0.00000000e+00 0.00000000e+00 0.00000000e+00 0.00000000e+00\n",
      " 0.00000000e+00 0.00000000e+00 3.09037876e-01 0.00000000e+00\n",
      " 8.41355617e+01 5.11079972e+02 4.23072852e+02 4.15484255e+02\n",
      " 1.44617165e+02 1.25400403e+02 1.19299119e+02 1.48624842e+02\n",
      " 1.40664264e+02 1.38059426e+02 1.49972906e+02 1.47282864e+02\n",
      " 1.82658138e+02 4.30924097e+01 8.48671856e+01 9.54295579e+00\n",
      " 0.00000000e+00 0.00000000e+00 0.00000000e+00 0.00000000e+00\n",
      " 0.00000000e+00 0.00000000e+00 0.00000000e+00 0.00000000e+00\n",
      " 0.00000000e+00 6.16150110e-02 0.00000000e+00 0.00000000e+00\n",
      " 1.16490880e+01 2.14481853e+02 2.00187171e+02 2.03714630e+02\n",
      " 2.00187171e+02 2.21814040e+02 2.07272897e+02 1.74713215e+02\n",
      " 2.28366688e+02 2.38962357e+02 2.63118559e+02 2.26276386e+02\n",
      " 2.26276386e+02 2.09899952e+02 4.06719899e+01 0.00000000e+00\n",
      " 0.00000000e+00 0.00000000e+00 4.80529182e-03 7.68846691e-02\n",
      " 1.72990505e-01 2.35459299e-01 1.92211673e-02 0.00000000e+00\n",
      " 0.00000000e+00 0.00000000e+00 0.00000000e+00 0.00000000e+00\n",
      " 1.35497228e+02 1.23211316e+02 1.13593423e+02 1.19961930e+02\n",
      " 1.18888450e+02 1.15696960e+02 1.18888450e+02 1.17819795e+02\n",
      " 1.12548891e+02 1.19961930e+02 1.26504123e+02 1.11509184e+02\n",
      " 3.68451970e+02 5.04136632e+02 4.59673371e+01 0.00000000e+00\n",
      " 0.00000000e+00 6.97766965e-02 0.00000000e+00 0.00000000e+00\n",
      " 0.00000000e+00 0.00000000e+00 0.00000000e+00 0.00000000e+00\n",
      " 0.00000000e+00 2.98024024e+01 1.63006116e+02 3.22647445e+02\n",
      " 1.06353147e+02 8.76640120e+01 9.28196355e+01 9.99229389e+01\n",
      " 9.72285119e+01 8.85130532e+01 9.10847273e+01 9.72285119e+01\n",
      " 1.02654192e+02 1.01739682e+02 9.81225625e+01 9.45709108e+01\n",
      " 1.02654192e+02 1.21803650e+02 5.17219512e+01 0.00000000e+00\n",
      " 0.00000000e+00 0.00000000e+00 0.00000000e+00 0.00000000e+00\n",
      " 1.20369953e+00 7.19247622e+00 2.49804804e+01 4.25344319e+01\n",
      " 1.32707873e+02 1.93126903e+02 1.79811905e+02 1.83096073e+02\n",
      " 1.74941381e+02 1.89753572e+02 1.48604881e+02 1.56128003e+02\n",
      " 1.01132633e+02 1.20166130e+02 1.13978370e+02 1.24382167e+02\n",
      " 7.03641975e+01 8.02864217e+01 1.41973216e+02 1.39710731e+02\n",
      " 1.23321343e+02 1.28670894e+02 1.05003391e+02 0.00000000e+00\n",
      " 0.00000000e+00 7.38033567e+00 7.94345824e+01 9.82772676e+01\n",
      " 9.57397740e+01 9.31924885e+01 9.57397740e+01 8.25511317e+01\n",
      " 7.94066174e+01 8.73823878e+01 8.25511317e+01 8.33468007e+01\n",
      " 7.63231617e+01 4.82381463e+01 1.14532445e+02 7.10740363e+01\n",
      " 8.09712422e+01 9.48868627e+01 1.24072840e+02 1.24072840e+02\n",
      " 1.02049801e+02 1.14408774e+02 1.02049801e+02 9.30234682e+01\n",
      " 1.01128363e+02 1.12461426e+02 1.26443885e+02 0.00000000e+00\n",
      " 1.88048609e-02 8.52570606e+01 1.08616877e+02 1.04839189e+02\n",
      " 1.02049801e+02 9.30234682e+01 9.30234682e+01 9.56874902e+01\n",
      " 9.24033034e+01 9.24033034e+01 9.24033034e+01 1.06420461e+02\n",
      " 1.26649144e+02 1.40721271e+01 4.94723219e+01 1.42975010e+02\n",
      " 1.15305690e+02 1.07390119e+02 7.77133220e+01 5.21460260e+01\n",
      " 8.02133233e+01 9.69657509e+01 9.15040066e+01 9.60444663e+01\n",
      " 1.00640607e+02 1.06154154e+02 1.03379002e+02 0.00000000e+00\n",
      " 1.96118900e+01 1.10861089e+02 8.00566989e+01 9.00545970e+01\n",
      " 1.00640607e+02 1.07087372e+02 1.07087372e+02 1.11814728e+02\n",
      " 1.26609412e+02 9.88354307e+01 7.68547576e+01 9.43939625e+01\n",
      " 1.20393778e+02 1.48497336e+02 1.08021770e+01 1.36248050e+01\n",
      " 2.87273990e+01 3.49990535e+01 7.21610991e+01 1.22623245e+02\n",
      " 1.24873166e+02 1.18184765e+02 1.20393778e+02 1.27143541e+02\n",
      " 1.27143541e+02 1.28286398e+02 1.34077388e+02 2.15020849e+00\n",
      " 1.23999254e+01 9.17396078e+01 9.90759547e+01 9.17396078e+01\n",
      " 8.21128569e+01 9.26412201e+01 9.81434804e+01 1.11599328e+02\n",
      " 1.02849941e+02 7.54466570e+01 8.55517695e+01 9.35472414e+01\n",
      " 8.64225198e+01 1.00012838e+02 1.26975236e+02 8.38234954e+01\n",
      " 1.09784944e+02 1.27886069e+02 1.21698962e+02 1.05949960e+02\n",
      " 1.01252104e+02 9.57552937e+01 9.30644132e+01 1.05001867e+02\n",
      " 1.03118463e+02 1.04058034e+02 1.12705924e+02 9.56402442e+00\n",
      " 4.90877974e+00 8.77977016e+01 7.13498806e+01 8.01852580e+01\n",
      " 9.35054255e+01 7.99852776e+01 7.05376620e+01 7.44020336e+01\n",
      " 7.75677268e+01 7.59766362e+01 8.40969689e+01 9.43854718e+01\n",
      " 9.88475328e+01 1.00661211e+02 9.97523110e+01 1.14789354e+02\n",
      " 1.04338032e+02 9.61579302e+01 8.16175882e+01 8.74605179e+01\n",
      " 1.00840836e+02 9.54921562e+01 9.13181454e+01 8.62317985e+01\n",
      " 9.54921562e+01 1.22494975e+02 1.23692962e+02 3.85483888e+01\n",
      " 0.00000000e+00 4.33840619e+01 1.39797299e+02 1.08573833e+02\n",
      " 9.33934916e+01 8.52320180e+01 9.76141394e+01 1.11975418e+02\n",
      " 9.61082801e+01 1.01844847e+02 1.04775484e+02 9.89557789e+01\n",
      " 1.02817107e+02 1.01844847e+02 9.23762785e+01 8.87181779e+01\n",
      " 8.69168404e+01 8.42494754e+01 8.78151997e+01 8.42494754e+01\n",
      " 9.05379905e+01 8.51339783e+01 7.15361901e+01 5.62017278e+01\n",
      " 9.35409197e+01 1.05078829e+02 1.47913319e+02 2.83886243e+01\n",
      " 0.00000000e+00 0.00000000e+00 1.83667423e+01 1.19809789e+02\n",
      " 1.50744132e+02 1.22358862e+02 1.02717583e+02 9.92260234e+01\n",
      " 1.02717583e+02 1.09881820e+02 1.14792139e+02 1.18545314e+02\n",
      " 8.73760518e+01 8.64538836e+01 9.11136461e+01 9.58957122e+01\n",
      " 1.01795632e+02 1.06846766e+02 1.07871669e+02 1.07871669e+02\n",
      " 1.08901464e+02 8.64538836e+01 8.64538836e+01 9.20602751e+01\n",
      " 9.01719094e+01 1.14123823e+02 7.06914111e+01 0.00000000e+00\n",
      " 9.90577738e-03 0.00000000e+00 0.00000000e+00 0.00000000e+00\n",
      " 1.07873916e+01 9.90577738e+01 1.22049083e+02 1.39099402e+02\n",
      " 1.41456977e+02 1.45030487e+02 1.49864506e+02 1.46231562e+02\n",
      " 1.47437590e+02 1.20952018e+02 1.19859906e+02 9.22450754e+01\n",
      " 1.95611675e+02 1.71804328e+02 1.77611390e+02 1.77611390e+02\n",
      " 1.75664979e+02 1.66093782e+02 1.47755690e+02 1.51337516e+02\n",
      " 5.25531106e+01 1.80378190e+01 0.00000000e+00 0.00000000e+00\n",
      " 0.00000000e+00 0.00000000e+00 0.00000000e+00 0.00000000e+00\n",
      " 0.00000000e+00 0.00000000e+00 0.00000000e+00 1.49510047e+02\n",
      " 3.47704302e+02 1.80907156e+02 4.84412551e+02 1.57078993e+02\n",
      " 1.14468629e+02 0.00000000e+00 0.00000000e+00 0.00000000e+00\n",
      " 0.00000000e+00 0.00000000e+00 0.00000000e+00 0.00000000e+00\n",
      " 0.00000000e+00 0.00000000e+00 0.00000000e+00 0.00000000e+00\n",
      " 0.00000000e+00 0.00000000e+00 0.00000000e+00 0.00000000e+00\n",
      " 0.00000000e+00 0.00000000e+00 0.00000000e+00 0.00000000e+00\n",
      " 0.00000000e+00 0.00000000e+00 0.00000000e+00 0.00000000e+00\n",
      " 0.00000000e+00 0.00000000e+00 0.00000000e+00 0.00000000e+00\n",
      " 0.00000000e+00 0.00000000e+00 0.00000000e+00 0.00000000e+00\n",
      " 0.00000000e+00 0.00000000e+00 0.00000000e+00 0.00000000e+00\n",
      " 0.00000000e+00 0.00000000e+00 0.00000000e+00 0.00000000e+00\n",
      " 0.00000000e+00 0.00000000e+00 0.00000000e+00 0.00000000e+00\n",
      " 0.00000000e+00 0.00000000e+00 0.00000000e+00 0.00000000e+00\n",
      " 0.00000000e+00 0.00000000e+00 0.00000000e+00 0.00000000e+00\n",
      " 0.00000000e+00 0.00000000e+00 0.00000000e+00 0.00000000e+00\n",
      " 0.00000000e+00 0.00000000e+00 0.00000000e+00 0.00000000e+00\n",
      " 0.00000000e+00 0.00000000e+00 0.00000000e+00 0.00000000e+00\n",
      " 0.00000000e+00 0.00000000e+00 0.00000000e+00 0.00000000e+00\n",
      " 0.00000000e+00 0.00000000e+00 0.00000000e+00 0.00000000e+00]\n",
      "0.7906032567632196\n"
     ]
    }
   ],
   "source": [
    "n=len(X_train)\n",
    "mse=0\n",
    "gatecount=0\n",
    "\n",
    "dataset = X_train[:1]\n",
    "\n",
    "for data in dataset:\n",
    "    image_re,hist_vector = extract_image_re(data)    \n",
    "    \n",
    "    mse+=image_mse(np.asarray(data.flatten()),np.asarray(image_re))\n",
    "    \n",
    "#fidelity of reconstruction\n",
    "f=1-mse/n\n",
    "gatecount=gatecount/n\n",
    "\n",
    "#score for part1\n",
    "print(f*(0.999**gatecount))\n",
    "# score should be between 0 and 1"
   ]
  },
  {
   "cell_type": "markdown",
   "id": "01b185e0-e483-4787-9555-bcd3a7f8e735",
   "metadata": {},
   "source": [
    "As you can see, the protocol yields a 79.06 percent fidelity, which is adequately high."
   ]
  },
  {
   "cell_type": "code",
   "execution_count": 21,
   "id": "7467384b-78a6-4d06-8dd6-bc5d02f1b691",
   "metadata": {},
   "outputs": [
    {
     "name": "stdout",
     "output_type": "stream",
     "text": [
      "0.7906032567632196\n"
     ]
    }
   ],
   "source": [
    "print(f*(0.999**gatecount))"
   ]
  },
  {
   "cell_type": "markdown",
   "id": "9b9b9365-a7ef-4f32-bee7-d2f351215403",
   "metadata": {},
   "source": [
    "We can now plot the decoded image to see it compared to the original image."
   ]
  },
  {
   "cell_type": "code",
   "execution_count": 22,
   "id": "bd5b0865",
   "metadata": {},
   "outputs": [
    {
     "data": {
      "text/plain": [
       "<matplotlib.image.AxesImage at 0x7f65eab30f70>"
      ]
     },
     "execution_count": 22,
     "metadata": {},
     "output_type": "execute_result"
    },
    {
     "data": {
      "image/png": "[encoded data removed]",
      "text/plain": [
       "<Figure size 432x288 with 1 Axes>"
      ]
     },
     "metadata": {
      "needs_background": "light"
     },
     "output_type": "display_data"
    }
   ],
   "source": [
    "plt.imshow(data)"
   ]
  },
  {
   "cell_type": "markdown",
   "id": "1759fd56-5bbc-4603-9515-5a24d0a5506f",
   "metadata": {},
   "source": [
    "We will first define the plot_image function, which allows us to plot the image."
   ]
  },
  {
   "cell_type": "code",
   "execution_count": 149,
   "id": "cb18382c-674a-4d65-9503-2966af425ea5",
   "metadata": {},
   "outputs": [],
   "source": [
    "# 'Accent', 'Accent_r', 'Blues', 'Blues_r', 'BrBG', 'BrBG_r', 'BuGn', 'BuGn_r', 'BuPu', 'BuPu_r', 'CMRmap', 'CMRmap_r', 'Dark2', 'Dark2_r', 'GnBu', 'GnBu_r', 'Greens', 'Greens_r', 'Greys', 'Greys_r', 'OrRd', 'OrRd_r', 'Oranges', 'Oranges_r', 'PRGn', 'PRGn_r', 'Paired', 'Paired_r', 'Pastel1', 'Pastel1_r', 'Pastel2', 'Pastel2_r', 'PiYG', 'PiYG_r', 'PuBu', 'PuBuGn', 'PuBuGn_r', 'PuBu_r', 'PuOr', 'PuOr_r', 'PuRd', 'PuRd_r', 'Purples', 'Purples_r', 'RdBu', 'RdBu_r', 'RdGy', 'RdGy_r', 'RdPu', 'RdPu_r', 'RdYlBu', 'RdYlBu_r', 'RdYlGn', 'RdYlGn_r', 'Reds', 'Reds_r', 'Set1', 'Set1_r', 'Set2', 'Set2_r', 'Set3', 'Set3_r', 'Spectral', 'Spectral_r', 'Wistia', 'Wistia_r', 'YlGn', 'YlGnBu', 'YlGnBu_r', 'YlGn_r', 'YlOrBr', 'YlOrBr_r', 'YlOrRd', 'YlOrRd_r', 'afmhot', 'afmhot_r', 'autumn', 'autumn_r', 'binary', 'binary_r', 'bone', 'bone_r', 'brg', 'brg_r', 'bwr', 'bwr_r', 'cividis', 'cividis_r', 'cool', 'cool_r', 'coolwarm', 'coolwarm_r', 'copper', 'copper_r', 'cubehelix', 'cubehelix_r', 'flag', 'flag_r', 'gist_earth', 'gist_earth_r', 'gist_gray', 'gist_gray_r', 'gist_heat', 'gist_heat_r', 'gist_ncar', 'gist_ncar_r', 'gist_rainbow', 'gist_rainbow_r', 'gist_stern', 'gist_stern_r', 'gist_yarg', 'gist_yarg_r', 'gnuplot', 'gnuplot2', 'gnuplot2_r', 'gnuplot_r', 'gray', 'gray_r', 'hot', 'hot_r', 'hsv', 'hsv_r', 'inferno', 'inferno_r', 'jet', 'jet_r', 'magma', 'magma_r', 'nipy_spectral', 'nipy_spectral_r', 'ocean', 'ocean_r', 'pink', 'pink_r', 'plasma', 'plasma_r', 'prism', 'prism_r', 'rainbow', 'rainbow_r', 'seismic', 'seismic_r', 'spring', 'spring_r', 'summer', 'summer_r', 'tab10', 'tab10_r', 'tab20', 'tab20_r', 'tab20b', 'tab20b_r', 'tab20c', 'tab20c_r', 'terrain', 'terrain_r', 'turbo', 'turbo_r', 'twilight', 'twilight_r', 'twilight_shifted', 'twilight_shifted_r', 'viridis', 'viridis_r', 'winter', 'winter_r'\n",
    "def plot_image(image):\n",
    "    # Reshape the list into a 28x28 array\n",
    "    image = np.array(image).reshape(28, 28)\n",
    "    # Plot the image using imshow\n",
    "    plt.imshow(image, cmap = \"Greys_r\")\n",
    "    # Remove the axis labels and ticks\n",
    "    plt.axis('off')\n",
    "    # Display the plot\n",
    "    plt.show()"
   ]
  },
  {
   "cell_type": "markdown",
   "id": "e8e439ce-1fb4-4840-b33e-0855badbe814",
   "metadata": {},
   "source": [
    "Below you can see the decoded image. For different colors, change cmap in the function above and run the cell below with "
   ]
  },
  {
   "cell_type": "code",
   "execution_count": 24,
   "id": "7183ba07",
   "metadata": {},
   "outputs": [
    {
     "data": {
      "text/plain": [
       "<matplotlib.image.AxesImage at 0x7f65eaa1ce50>"
      ]
     },
     "execution_count": 24,
     "metadata": {},
     "output_type": "execute_result"
    },
    {
     "data": {
      "image/png": "[encoded data removed]",
      "text/plain": [
       "<Figure size 432x288 with 1 Axes>"
      ]
     },
     "metadata": {
      "needs_background": "light"
     },
     "output_type": "display_data"
    }
   ],
   "source": [
    "plt.imshow(np.array(image_re).reshape(28, 28))"
   ]
  },
  {
   "cell_type": "markdown",
   "id": "c99038b9",
   "metadata": {},
   "source": [
    "## train classifier circuit (2nd task)\n",
    "is there a way to get the best classifier?  \n",
    "\n",
    "Important Final Note: The goal of this problem is to explore quantum computing approaches to machine learning problems. To this end, the final score will take into account the degree of quantumness in the program. Preference will be given to creative solutions with a minimal amount of classical processing in the final solution.\n",
    "\n",
    "reference:   \n",
    "[1] calculate result from probability, https://github.com/ericardomuten/quantum_image_classifier  \n",
    "[2] MPS tensor circuit(ideal classifier circuit), https://journals.aps.org/prresearch/pdf/10.1103/PhysRevResearch.4.043007 , good example from qamp-mentorship https://github.com/qiskit-advocate/qamp-fall-22/issues/28   \n",
    "[3] Good idea about amplitude circuit, https://journals.aps.org/prx/pdf/10.1103/PhysRevX.7.031041"
   ]
  },
  {
   "cell_type": "code",
   "execution_count": 98,
   "id": "07d890df-f0be-4e73-9d23-a656e9bdd7e3",
   "metadata": {},
   "outputs": [],
   "source": [
    "def histogram_to_category(histogram):\n",
    "    \"\"\"This function take a histogram representations of circuit execution results, and process into labels as described in \n",
    "    the problem description.\"\"\"\n",
    "    positive=0\n",
    "    label = ''\n",
    "    for key in histogram.keys():\n",
    "        digits = bin(int(key))[2:].zfill(20)\n",
    "        if digits[-1]=='0':\n",
    "            positive+=histogram[key]\n",
    "    \n",
    "    if isclose(positive, 0, rel_tol=1e-1, abs_tol=0.0):\n",
    "        label = \"T-shirt/Top\"\n",
    "    elif isclose(positive, 1, rel_tol=1e-1, abs_tol=0.0):\n",
    "        label = \"Trousers\"\n",
    "    elif isclose(positive, 2, rel_tol=1e-1, abs_tol=0.0):\n",
    "        label = \"Pullover\"\n",
    "    elif isclose(positive, 3, rel_tol=1e-1, abs_tol=0.0):\n",
    "        label = \"Dress\"\n",
    "    elif isclose(positive, 4, rel_tol=1e-1, abs_tol=0.0):\n",
    "        label = \"Coat\"\n",
    "    elif isclose(positive, 5, rel_tol=1e-1, abs_tol=0.0):\n",
    "        label = \"Sandals\"\n",
    "    elif isclose(positive, 6, rel_tol=1e-1, abs_tol=0.0):\n",
    "        label = \"Shirt\"\n",
    "    elif isclose(positive, 7, rel_tol=1e-1, abs_tol=0.0):\n",
    "        label = \"Sneakers\"\n",
    "    elif isclose(positive, 8, rel_tol=1e-1, abs_tol=0.0):\n",
    "        label = \"Bag\"\n",
    "    elif isclose(positive, 9, rel_tol=1e-1, abs_tol=0.0):\n",
    "        label = \"Angle boots\"\n",
    "        \n",
    "    return label"
   ]
  },
  {
   "cell_type": "code",
   "execution_count": 79,
   "id": "47203d26-1dfd-4667-81f3-e8cd684d905a",
   "metadata": {},
   "outputs": [
    {
     "name": "stdout",
     "output_type": "stream",
     "text": [
      "Traceback \u001b[1;36m(most recent call last)\u001b[0m:\n",
      "\u001b[1;36m  Input \u001b[1;32mIn [79]\u001b[1;36m in \u001b[1;35m<cell line: 1>\u001b[1;36m\u001b[0m\n",
      "\u001b[1;33m    classifier = pickle.load(open(\"ansatz.pickle\", \"rb\"))\u001b[0m\n",
      "\u001b[1;31mFileNotFoundError\u001b[0m\u001b[1;31m:\u001b[0m [Errno 2] No such file or directory: 'ansatz.pickle'\n",
      "\n",
      "Use %tb to get the full traceback.\n"
     ]
    },
    {
     "data": {
      "text/html": [
       "\n",
       "<style>\n",
       ".button {\n",
       "  border: none;\n",
       "  color: white;\n",
       "  padding: 4px 8px;\n",
       "  text-align: center;\n",
       "  text-decoration: none;\n",
       "  display: inline-block;\n",
       "  font-size: 12px;\n",
       "  margin: 4px 2px;\n",
       "  transition-duration: 0.2s;\n",
       "  cursor: pointer;\n",
       "}\n",
       ".iqx-button {\n",
       "  background-color: #0f62fe; \n",
       "  color: white; \n",
       "}\n",
       ".iqx-button:hover {\n",
       "  background-color: #0043ce;\n",
       "  color: white;\n",
       "}\n",
       "</style>\n",
       "<a href=\"https://stackoverflow.com/search?q=FileNotFoundError: 2\" target='_blank'><button class='button iqx-button'>Search for solution online</button></a>\n"
      ],
      "text/plain": [
       "<IPython.core.display.HTML object>"
      ]
     },
     "metadata": {},
     "output_type": "display_data"
    }
   ],
   "source": [
    "classifier = pickle.load(open(\"circuit.pickle\", \"rb\"))"
   ]
  },
  {
   "cell_type": "code",
   "execution_count": 111,
   "id": "650b6a51-b675-41b3-930d-bcc29499e30c",
   "metadata": {},
   "outputs": [],
   "source": [
    "classifier = QuantumCircuit.from_qasm_file(\"iQuHACK/circuit.qasm\")"
   ]
  },
  {
   "cell_type": "code",
   "execution_count": 102,
   "id": "6e97150a-0c20-4363-be5f-ff632ea2ed34",
   "metadata": {},
   "outputs": [
    {
     "name": "stdout",
     "output_type": "stream",
     "text": [
      "1024\n"
     ]
    }
   ],
   "source": [
    "classify_operator = Operator(ansatz)\n",
    "hist_vec = [*hist_vector]\n",
    "hist_vec.extend(np.zeros(240))\n",
    "\n",
    "print(len(hist_vec))\n",
    "hist_vec = Statevector(data = hist_vec)\n",
    "output_statevector = hist_vec.evolve(classify_operator)"
   ]
  },
  {
   "cell_type": "code",
   "execution_count": 105,
   "id": "6cd85420-26c7-4813-b2d8-7e5f2d8fb0e0",
   "metadata": {},
   "outputs": [],
   "source": [
    "features = []\n",
    "for i in range(1024):\n",
    "    features.append(bin(i)[2:].zfill(10))\n",
    "\n",
    "output_statevector = list(i.real for i in output_statevector)\n",
    "\n",
    "hist_dictionary = dict(zip(features, output_statevector))"
   ]
  },
  {
   "cell_type": "code",
   "execution_count": 106,
   "id": "e6753673-9ee4-40f6-bc60-6c32f74cdd59",
   "metadata": {},
   "outputs": [
    {
     "data": {
      "text/plain": [
       "'Sneakers'"
      ]
     },
     "execution_count": 106,
     "metadata": {},
     "output_type": "execute_result"
    }
   ],
   "source": [
    "histogram_to_category(hist_dictionary)"
   ]
  }
 ],
 "metadata": {
  "kernelspec": {
   "display_name": "Python 3 (ipykernel)",
   "language": "python",
   "name": "python3"
  },
  "language_info": {
   "codemirror_mode": {
    "name": "ipython",
    "version": 3
   },
   "file_extension": ".py",
   "mimetype": "text/x-python",
   "name": "python",
   "nbconvert_exporter": "python",
   "pygments_lexer": "ipython3",
   "version": "3.8.12"
  },
  "toc": {
   "base_numbering": 1,
   "nav_menu": {},
   "number_sections": true,
   "sideBar": true,
   "skip_h1_title": false,
   "title_cell": "Table of Contents",
   "title_sidebar": "Contents",
   "toc_cell": false,
   "toc_position": {},
   "toc_section_display": true,
   "toc_window_display": false
  },
  "widgets": {
   "application/vnd.jupyter.widget-state+json": {
    "state": {
     "034dc529828d49f7b45cc3b6457bcac5": {
      "model_module": "@jupyter-widgets/controls",
      "model_module_version": "1.5.0",
      "model_name": "DescriptionStyleModel",
      "state": {
       "description_width": ""
      }
     },
     "0e532ccdb3204bbeb086912e1966d720": {
      "model_module": "@jupyter-widgets/controls",
      "model_module_version": "1.5.0",
      "model_name": "HBoxModel",
      "state": {
       "children": [
        "IPY_MODEL_3ec30b8782e747ce9996e119d1b92479",
        "IPY_MODEL_2d812218144841729db2186802a60cf2",
        "IPY_MODEL_23c934b2f43d465cbbd987cde9ca30a1",
        "IPY_MODEL_a4ddf2ac3c7847ffb2834cf1862adf07",
        "IPY_MODEL_9c8ba43c812447b38697e5aada3093ef"
       ],
       "layout": "IPY_MODEL_1facab50a0584c25b44ab036594fce3a"
      }
     },
     "141da7c82f26411d81cc98d452e50822": {
      "model_module": "@jupyter-widgets/base",
      "model_module_version": "1.2.0",
      "model_name": "LayoutModel",
      "state": {
       "width": "190px"
      }
     },
     "1facab50a0584c25b44ab036594fce3a": {
      "model_module": "@jupyter-widgets/base",
      "model_module_version": "1.2.0",
      "model_name": "LayoutModel",
      "state": {
       "margin": "0px 0px 0px 37px",
       "width": "600px"
      }
     },
     "20e181e8e99e4c5997d783251a0cc42c": {
      "model_module": "@jupyter-widgets/controls",
      "model_module_version": "1.5.0",
      "model_name": "HTMLModel",
      "state": {
       "layout": "IPY_MODEL_9a5554de3544400abce71d887a0b62bb",
       "style": "IPY_MODEL_d4b764d8431f4c9b8639fe5ee993ce82",
       "value": "<p style='font-family: IBM Plex Sans, Arial, Helvetica, sans-serif; font-size: 20px; font-weight: medium;'>Circuit Properties</p>"
      }
     },
     "23c934b2f43d465cbbd987cde9ca30a1": {
      "model_module": "@jupyter-widgets/controls",
      "model_module_version": "1.5.0",
      "model_name": "HTMLModel",
      "state": {
       "layout": "IPY_MODEL_3d413815c00b4fb3bd3d5bd3bac0e7df",
       "style": "IPY_MODEL_432fef991107494d90d3c9e9c3be9ff6",
       "value": "<h5>Status</h5>"
      }
     },
     "2d812218144841729db2186802a60cf2": {
      "model_module": "@jupyter-widgets/controls",
      "model_module_version": "1.5.0",
      "model_name": "HTMLModel",
      "state": {
       "layout": "IPY_MODEL_b547fe5ed19146c0826fea1bfda58749",
       "style": "IPY_MODEL_034dc529828d49f7b45cc3b6457bcac5",
       "value": "<h5>Backend</h5>"
      }
     },
     "3d413815c00b4fb3bd3d5bd3bac0e7df": {
      "model_module": "@jupyter-widgets/base",
      "model_module_version": "1.2.0",
      "model_name": "LayoutModel",
      "state": {
       "width": "95px"
      }
     },
     "3ec30b8782e747ce9996e119d1b92479": {
      "model_module": "@jupyter-widgets/controls",
      "model_module_version": "1.5.0",
      "model_name": "HTMLModel",
      "state": {
       "layout": "IPY_MODEL_141da7c82f26411d81cc98d452e50822",
       "style": "IPY_MODEL_d7703a0e1b054d5a9c59a9c1690be19a",
       "value": "<h5>Job ID</h5>"
      }
     },
     "432fef991107494d90d3c9e9c3be9ff6": {
      "model_module": "@jupyter-widgets/controls",
      "model_module_version": "1.5.0",
      "model_name": "DescriptionStyleModel",
      "state": {
       "description_width": ""
      }
     },
     "46d6004515ec475e88192dfe47a04017": {
      "model_module": "@jupyter-widgets/controls",
      "model_module_version": "1.5.0",
      "model_name": "ButtonModel",
      "state": {
       "button_style": "primary",
       "description": "Clear",
       "layout": "IPY_MODEL_d898ad82a92840458924fabc96eb7dcb",
       "style": "IPY_MODEL_bf76a4ea627b4c68ab226ce13010676d"
      }
     },
     "472d981cded04bcb9a41192fcca0b491": {
      "model_module": "@jupyter-widgets/base",
      "model_module_version": "1.2.0",
      "model_name": "LayoutModel",
      "state": {}
     },
     "8a7d96a224f44995a4979fb5c8762e5d": {
      "model_module": "@jupyter-widgets/controls",
      "model_module_version": "1.5.0",
      "model_name": "DescriptionStyleModel",
      "state": {
       "description_width": ""
      }
     },
     "9a5554de3544400abce71d887a0b62bb": {
      "model_module": "@jupyter-widgets/base",
      "model_module_version": "1.2.0",
      "model_name": "LayoutModel",
      "state": {
       "margin": "0px 0px 10px 0px"
      }
     },
     "9c8ba43c812447b38697e5aada3093ef": {
      "model_module": "@jupyter-widgets/controls",
      "model_module_version": "1.5.0",
      "model_name": "HTMLModel",
      "state": {
       "layout": "IPY_MODEL_472d981cded04bcb9a41192fcca0b491",
       "style": "IPY_MODEL_d37f96f91ac04b3f918d1b61196c1eee",
       "value": "<h5>Message</h5>"
      }
     },
     "a4ddf2ac3c7847ffb2834cf1862adf07": {
      "model_module": "@jupyter-widgets/controls",
      "model_module_version": "1.5.0",
      "model_name": "HTMLModel",
      "state": {
       "layout": "IPY_MODEL_caa6e6ad3b414beeb46eb0080eef2de3",
       "style": "IPY_MODEL_8a7d96a224f44995a4979fb5c8762e5d",
       "value": "<h5>Queue</h5>"
      }
     },
     "ac2a8da746bf4c7c9a9ac5a8b8417fb4": {
      "model_module": "@jupyter-widgets/controls",
      "model_module_version": "1.5.0",
      "model_name": "GridBoxModel",
      "state": {
       "children": [
        "IPY_MODEL_46d6004515ec475e88192dfe47a04017"
       ],
       "layout": "IPY_MODEL_ca22471ac70b4f9e87536a3b5ecd2f97"
      }
     },
     "b547fe5ed19146c0826fea1bfda58749": {
      "model_module": "@jupyter-widgets/base",
      "model_module_version": "1.2.0",
      "model_name": "LayoutModel",
      "state": {
       "width": "145px"
      }
     },
     "bf76a4ea627b4c68ab226ce13010676d": {
      "model_module": "@jupyter-widgets/controls",
      "model_module_version": "1.5.0",
      "model_name": "ButtonStyleModel",
      "state": {}
     },
     "ca22471ac70b4f9e87536a3b5ecd2f97": {
      "model_module": "@jupyter-widgets/base",
      "model_module_version": "1.2.0",
      "model_name": "LayoutModel",
      "state": {
       "grid_template_areas": "\n                                       \". . . . right \"\n                                        ",
       "grid_template_columns": "20% 20% 20% 20% 20%",
       "width": "100%"
      }
     },
     "caa6e6ad3b414beeb46eb0080eef2de3": {
      "model_module": "@jupyter-widgets/base",
      "model_module_version": "1.2.0",
      "model_name": "LayoutModel",
      "state": {
       "width": "70px"
      }
     },
     "d37f96f91ac04b3f918d1b61196c1eee": {
      "model_module": "@jupyter-widgets/controls",
      "model_module_version": "1.5.0",
      "model_name": "DescriptionStyleModel",
      "state": {
       "description_width": ""
      }
     },
     "d4b764d8431f4c9b8639fe5ee993ce82": {
      "model_module": "@jupyter-widgets/controls",
      "model_module_version": "1.5.0",
      "model_name": "DescriptionStyleModel",
      "state": {
       "description_width": ""
      }
     },
     "d7703a0e1b054d5a9c59a9c1690be19a": {
      "model_module": "@jupyter-widgets/controls",
      "model_module_version": "1.5.0",
      "model_name": "DescriptionStyleModel",
      "state": {
       "description_width": ""
      }
     },
     "d898ad82a92840458924fabc96eb7dcb": {
      "model_module": "@jupyter-widgets/base",
      "model_module_version": "1.2.0",
      "model_name": "LayoutModel",
      "state": {
       "grid_area": "right",
       "padding": "0px 0px 0px 0px",
       "width": "70px"
      }
     }
    },
    "version_major": 2,
    "version_minor": 0
   }
  }
 },
 "nbformat": 4,
 "nbformat_minor": 5
}
